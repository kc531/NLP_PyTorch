{
  "cells": [
    {
      "cell_type": "code",
      "execution_count": null,
      "metadata": {
        "id": "2yAW3X4l3yit"
      },
      "outputs": [],
      "source": [
        "!pip install torch torchvision==0.10.0\n",
        "!pip install -U torchtext==0.10.0"
      ]
    },
    {
      "cell_type": "code",
      "execution_count": 2,
      "metadata": {
        "id": "Sf8kIKvdh1V8"
      },
      "outputs": [],
      "source": [
        "import random\n",
        "import torch\n",
        "import torch.nn as nn\n",
        "import torch.optim as optim\n",
        "\n",
        "from torchtext.legacy.datasets import Multi30k\n",
        "from torchtext.legacy.data import Field, BucketIterator\n",
        "from torch.optim import Optimizer\n",
        "import spacy\n",
        "import numpy as np\n",
        "\n",
        "import random\n",
        "import math\n",
        "import time\n",
        "\n",
        "from torch.utils.tensorboard import SummaryWriter\n",
        "writer = SummaryWriter()\n",
        "device = torch.device('cuda' if torch.cuda.is_available() else 'cpu')"
      ]
    },
    {
      "cell_type": "code",
      "execution_count": null,
      "metadata": {
        "id": "Vz_4T8WU53Oj"
      },
      "outputs": [],
      "source": [
        "!python -m spacy download en \n",
        "!python -m spacy download de"
      ]
    },
    {
      "cell_type": "code",
      "execution_count": 4,
      "metadata": {
        "id": "U5h2gakV53St"
      },
      "outputs": [],
      "source": [
        "spacy_ger = spacy.load('de_core_news_sm')\n",
        "spacy_en = spacy.load('en_core_web_sm')"
      ]
    },
    {
      "cell_type": "code",
      "execution_count": 5,
      "metadata": {
        "id": "d7C73-OxYTCJ"
      },
      "outputs": [],
      "source": [
        "SEED = 1234\n",
        "\n",
        "random.seed(SEED)\n",
        "np.random.seed(SEED)\n",
        "torch.manual_seed(SEED)\n",
        "torch.cuda.manual_seed(SEED)\n",
        "torch.backends.cudnn.deterministic = True"
      ]
    },
    {
      "cell_type": "code",
      "execution_count": 6,
      "metadata": {
        "id": "YWzy49BA58et"
      },
      "outputs": [],
      "source": [
        "def tokenize_ger(text):\n",
        "    return [tok.text for tok in spacy_ger.tokenizer(text)]\n",
        "\n",
        "def tokenize_en(text):\n",
        "    return [tok.text for tok in spacy_en.tokenizer(text)]"
      ]
    },
    {
      "cell_type": "code",
      "execution_count": 7,
      "metadata": {
        "id": "g-U6dWUh58iX"
      },
      "outputs": [],
      "source": [
        "German = Field(tokenize = tokenize_ger, init_token = '<sos>', eos_token = '<eos>', lower = True, batch_first = True)\n",
        "English = Field(tokenize = tokenize_en, init_token = '<sos>', eos_token = '<eos>', lower = True, batch_first = True)"
      ]
    },
    {
      "cell_type": "code",
      "execution_count": 8,
      "metadata": {
        "id": "7DtZ05kB58mh",
        "colab": {
          "base_uri": "https://localhost:8080/"
        },
        "outputId": "e80758f0-7884-4095-8b78-511c8eff9b41"
      },
      "outputs": [
        {
          "output_type": "stream",
          "name": "stdout",
          "text": [
            "downloading training.tar.gz\n"
          ]
        },
        {
          "output_type": "stream",
          "name": "stderr",
          "text": [
            "training.tar.gz: 100%|██████████| 1.21M/1.21M [00:03<00:00, 393kB/s]\n"
          ]
        },
        {
          "output_type": "stream",
          "name": "stdout",
          "text": [
            "downloading validation.tar.gz\n"
          ]
        },
        {
          "output_type": "stream",
          "name": "stderr",
          "text": [
            "validation.tar.gz: 100%|██████████| 46.3k/46.3k [00:00<00:00, 114kB/s] \n"
          ]
        },
        {
          "output_type": "stream",
          "name": "stdout",
          "text": [
            "downloading mmt_task1_test2016.tar.gz\n"
          ]
        },
        {
          "output_type": "stream",
          "name": "stderr",
          "text": [
            "mmt_task1_test2016.tar.gz: 100%|██████████| 66.2k/66.2k [00:00<00:00, 108kB/s]\n"
          ]
        }
      ],
      "source": [
        "train_data, valid_data, test_data = Multi30k.splits(exts = ('.de', '.en'), fields = (German, English))"
      ]
    },
    {
      "cell_type": "code",
      "execution_count": 9,
      "metadata": {
        "id": "nCoNH_176Fx5",
        "colab": {
          "base_uri": "https://localhost:8080/"
        },
        "outputId": "01c4b981-ec91-4708-cf8a-8e6d9570eebd"
      },
      "outputs": [
        {
          "output_type": "stream",
          "name": "stdout",
          "text": [
            "Number of training examples: 29000\n",
            "Number of validation examples: 1014\n",
            "Number of testing examples: 1000\n"
          ]
        }
      ],
      "source": [
        "print(f\"Number of training examples: {len(train_data.examples)}\")\n",
        "print(f\"Number of validation examples: {len(valid_data.examples)}\")\n",
        "print(f\"Number of testing examples: {len(test_data.examples)}\")"
      ]
    },
    {
      "cell_type": "code",
      "execution_count": 10,
      "metadata": {
        "id": "ZkLnm8Dp6F05"
      },
      "outputs": [],
      "source": [
        "German.build_vocab(train_data, min_freq = 2)\n",
        "English.build_vocab(train_data, min_freq = 2)"
      ]
    },
    {
      "cell_type": "code",
      "execution_count": 11,
      "metadata": {
        "id": "kzRS3fNg6F5D",
        "colab": {
          "base_uri": "https://localhost:8080/"
        },
        "outputId": "95d6ebd2-c926-4209-e993-cc038db3511d"
      },
      "outputs": [
        {
          "output_type": "stream",
          "name": "stdout",
          "text": [
            "German vocabulary: 7853\n",
            "English vocabulary: 5893\n"
          ]
        }
      ],
      "source": [
        "print(f\"German vocabulary: {len(German.vocab)}\")\n",
        "print(f\"English vocabulary: {len(English.vocab)}\")"
      ]
    },
    {
      "cell_type": "code",
      "execution_count": 12,
      "metadata": {
        "id": "-DNloii16Ukn"
      },
      "outputs": [],
      "source": [
        "BATCH_SIZE = 256\n",
        "train_iterator, valid_iterator, test_iterator = BucketIterator.splits((train_data, valid_data, test_data), batch_size = BATCH_SIZE, device = device)"
      ]
    },
    {
      "cell_type": "code",
      "execution_count": 13,
      "metadata": {
        "id": "4w2iwCggb0pn"
      },
      "outputs": [],
      "source": [
        "class PositionwiseFeedforwardLayer(nn.Module):\n",
        "    def __init__(self, hid_dim, pf_dim, dropout):\n",
        "        super().__init__()\n",
        "        \n",
        "        self.fc_1 = nn.Linear(hid_dim, pf_dim)\n",
        "        self.fc_2 = nn.Linear(pf_dim, hid_dim)\n",
        "        \n",
        "        self.dropout = nn.Dropout(dropout)\n",
        "        \n",
        "    def forward(self, x):\n",
        "        x = self.dropout(torch.relu(self.fc_1(x)))\n",
        "        x = self.fc_2(x)        \n",
        "        return x"
      ]
    },
    {
      "cell_type": "code",
      "execution_count": 14,
      "metadata": {
        "id": "zuNLGeial48E"
      },
      "outputs": [],
      "source": [
        "class SelfAtt(nn.Module):\n",
        "  def __init__(self, emb_size, heads,dropout):\n",
        "    super(SelfAtt,self).__init__()\n",
        "    self.emb_size = emb_size\n",
        "    self.heads = heads\n",
        "    self.head_dim = emb_size//heads\n",
        "    assert(self.head_dim*heads == self.emb_size), \"head_dim*heads != emb_size\"\n",
        "\n",
        "    self.query = nn.Linear(self.emb_size,self.emb_size)\n",
        "    self.key = nn.Linear(self.emb_size,self.emb_size)\n",
        "    self.value = nn.Linear(self.emb_size,self.emb_size)\n",
        "\n",
        "    self.fc_out = nn.Linear(self.head_dim*heads, self.emb_size)\n",
        "    self.scale = torch.sqrt(torch.FloatTensor([self.head_dim])).to(device)\n",
        "    self.dropout = nn.Dropout(dropout)\n",
        "\n",
        "  def forward(self,values,keys,query,mask):\n",
        "    N = query.shape[0]\n",
        "    values = self.value(values)\n",
        "    keys = self.key(keys)  \n",
        "    query1 = self.query(query) \n",
        "\n",
        "    values = values.view(N, -1, self.heads, self.head_dim).permute(0, 2, 1, 3)\n",
        "    keys = keys.view(N, -1, self.heads, self.head_dim).permute(0, 2, 1, 3)\n",
        "    query1 = query1.view(N, -1, self.heads, self.head_dim).permute(0, 2, 1, 3)\n",
        "    energy = torch.matmul(query1, keys.permute(0, 1, 3, 2)) / self.scale\n",
        "\n",
        "    if mask is not None:\n",
        "      energy = energy.masked_fill(mask == 0, float(\"-1e20\"))\n",
        "    \n",
        "    attention = torch.softmax(energy, dim= -1)\n",
        "    x = torch.matmul(self.dropout(attention), values)    \n",
        "    x = x.permute(0, 2, 1, 3).contiguous()\n",
        "    out = x.view(N, -1, self.emb_size)\n",
        "    \n",
        "    out =  self.fc_out(out)\n",
        "    return out"
      ]
    },
    {
      "cell_type": "code",
      "execution_count": 15,
      "metadata": {
        "id": "9oeuJAMnuCk-"
      },
      "outputs": [],
      "source": [
        "class TransformerBlock(nn.Module):\n",
        "  def __init__(self,emb_size, heads, dropout, forward_expansion):\n",
        "    super(TransformerBlock,self).__init__()\n",
        "    self.att = SelfAtt(emb_size,heads,dropout)\n",
        "    self.norm1 = nn.LayerNorm(emb_size)\n",
        "    self.norm2 = nn.LayerNorm(emb_size)\n",
        "\n",
        "    self.feed_forward = PositionwiseFeedforwardLayer(emb_size, forward_expansion*emb_size, dropout)\n",
        "    self.dropout = nn.Dropout(dropout)\n",
        "\n",
        "  def forward(self, value, key, query, mask):\n",
        "    att = self.att(value, key, query, mask)\n",
        "    x = self.norm1(query + self.dropout(att))\n",
        "    forward = self.feed_forward(x)\n",
        "    out  = self.norm2(x + self.dropout(forward))\n",
        "    return out"
      ]
    },
    {
      "cell_type": "code",
      "execution_count": 16,
      "metadata": {
        "id": "HEiexFCTxhqf"
      },
      "outputs": [],
      "source": [
        "class Encoder(nn.Module):\n",
        "  def __init__(self, \n",
        "               src_vocab_size, \n",
        "               emb_size,\n",
        "               num_layers,\n",
        "               heads,\n",
        "               device,\n",
        "               forward_expansion,\n",
        "               dropout,\n",
        "               max_length,\n",
        "               ):\n",
        "    super(Encoder,self).__init__()\n",
        "    self.emb_size = emb_size\n",
        "    self.device = device\n",
        "    self.word_embedding  = nn.Embedding(src_vocab_size,emb_size)\n",
        "    self.position_embedding = nn.Embedding(max_length, emb_size)\n",
        "    self.layers = nn.ModuleList(\n",
        "        [\n",
        "         TransformerBlock(\n",
        "             emb_size,\n",
        "             heads,\n",
        "             dropout = dropout,\n",
        "             forward_expansion = forward_expansion,\n",
        "         )\n",
        "         for _ in range(num_layers)\n",
        "        ]\n",
        "    )\n",
        "    self.dropout = nn.Dropout(dropout)\n",
        "    self.scale = torch.sqrt(torch.FloatTensor([emb_size])).to(device)\n",
        "  def forward(self,x, src_mask):\n",
        "    N,seq_length = x.shape\n",
        "    positions = torch.arange(0, seq_length).unsqueeze(0).repeat(N, 1).to(self.device)\n",
        "    out = self.dropout(self.word_embedding(x)*self.scale + self.position_embedding(positions))\n",
        "    for layer in self.layers:\n",
        "      out  = layer(out,out,out, src_mask)\n",
        "      \n",
        "    return out"
      ]
    },
    {
      "cell_type": "code",
      "execution_count": 17,
      "metadata": {
        "id": "-AD6srbm3eYj"
      },
      "outputs": [],
      "source": [
        "class DecoderBlock(nn.Module):\n",
        "  def __init__(self, emb_size, heads, forward_expansion, dropout, device):\n",
        "    super(DecoderBlock,self).__init__()\n",
        "    self.attention = SelfAtt(emb_size,heads,dropout)\n",
        "    self.norm1 = nn.LayerNorm(emb_size)\n",
        "    self.norm = nn.LayerNorm(emb_size)\n",
        "    self.transformer_block = TransformerBlock(emb_size, heads, dropout, forward_expansion)\n",
        "    self.dropout = nn.Dropout(dropout)\n",
        "\n",
        "  def forward(self, x, value, key, src_mask, trg_mask):\n",
        "    attention = self.attention(x,x,x,trg_mask)\n",
        "    query = self.norm1(self.dropout(attention) + x)\n",
        "    out  = self.transformer_block(value, key, query, src_mask)\n",
        "    return out"
      ]
    },
    {
      "cell_type": "code",
      "execution_count": 18,
      "metadata": {
        "id": "uZFojgCL5fQg"
      },
      "outputs": [],
      "source": [
        "class Decoder(nn.Module):\n",
        "    def __init__(\n",
        "        self,\n",
        "        trg_vocab_size,\n",
        "        embed_size,\n",
        "        num_layers,\n",
        "        heads,\n",
        "        forward_expansion,\n",
        "        dropout,\n",
        "        device,\n",
        "        max_length,\n",
        "    ):\n",
        "        super(Decoder, self).__init__()\n",
        "        self.device = device\n",
        "        self.word_embedding = nn.Embedding(trg_vocab_size, embed_size)\n",
        "        self.position_embedding = nn.Embedding(max_length, embed_size)\n",
        "\n",
        "        self.layers = nn.ModuleList(\n",
        "            [\n",
        "                DecoderBlock(embed_size, heads, forward_expansion, dropout, device)\n",
        "                for _ in range(num_layers)\n",
        "            ]\n",
        "        )\n",
        "        self.fc_out = nn.Linear(embed_size, trg_vocab_size)\n",
        "        self.dropout = nn.Dropout(dropout)\n",
        "        self.scale = torch.sqrt(torch.FloatTensor([embed_size])).to(device)\n",
        "\n",
        "    def forward(self, x, enc_out, src_mask, trg_mask):\n",
        "        N, seq_length = x.shape\n",
        "        positions = torch.arange(0, seq_length).unsqueeze(0).repeat(N, 1).to(self.device)\n",
        "        x = self.dropout((self.word_embedding(x)*self.scale) + self.position_embedding(positions))\n",
        "        for layer in self.layers:\n",
        "            x = layer(x, enc_out, enc_out, src_mask, trg_mask)\n",
        "\n",
        "        out = self.fc_out(x)\n",
        "\n",
        "        return out"
      ]
    },
    {
      "cell_type": "code",
      "execution_count": 19,
      "metadata": {
        "id": "DvUN9vRyJPtK"
      },
      "outputs": [],
      "source": [
        "class Transformer(nn.Module):\n",
        "    def __init__(\n",
        "        self,\n",
        "        src_vocab_size,\n",
        "        trg_vocab_size,\n",
        "        embed_size=5,\n",
        "        num_layers=6,\n",
        "        forward_expansion=4,\n",
        "        heads=1,\n",
        "        dropout=0,\n",
        "        device=\"cpu\",\n",
        "        max_length=10,\n",
        "        src_pad_idx = 0,\n",
        "        trg_pad_idx = 0,\n",
        "    ):\n",
        "\n",
        "        super(Transformer, self).__init__()\n",
        "\n",
        "        self.encoder = Encoder(\n",
        "            src_vocab_size,\n",
        "            embed_size,\n",
        "            num_layers,\n",
        "            heads,\n",
        "            device,\n",
        "            forward_expansion,\n",
        "            dropout,\n",
        "            max_length,\n",
        "        )\n",
        "\n",
        "        self.decoder = Decoder(\n",
        "            trg_vocab_size,\n",
        "            embed_size,\n",
        "            num_layers,\n",
        "            heads,\n",
        "            forward_expansion,\n",
        "            dropout,\n",
        "            device,\n",
        "            max_length,\n",
        "        )\n",
        "\n",
        "        self.device = device\n",
        "        self.src_pad_idx = src_pad_idx\n",
        "        self.trg_pad_idx = trg_pad_idx\n",
        "\n",
        "\n",
        "    def make_src_mask(self, src):\n",
        "        src_mask = (src != self.src_pad_idx).unsqueeze(1).unsqueeze(2)\n",
        "        return src_mask\n",
        "\n",
        "    def make_trg_mask(self, trg):\n",
        "        trg_pad_mask = (trg != self.trg_pad_idx).unsqueeze(1).unsqueeze(2)\n",
        "        trg_len = trg.shape[1]\n",
        "        trg_sub_mask = torch.tril(torch.ones((trg_len, trg_len), device = self.device)).bool()\n",
        "        trg_mask = trg_pad_mask & trg_sub_mask\n",
        "        return trg_mask\n",
        "\n",
        "    def forward(self, src, trg):\n",
        "        trg_mask = self.make_trg_mask(trg)\n",
        "        src_mask = self.make_src_mask(src)\n",
        "        enc_src = self.encoder(src, src_mask)\n",
        "        out = self.decoder(trg, enc_src, src_mask, trg_mask)\n",
        "        return out\n"
      ]
    },
    {
      "cell_type": "code",
      "execution_count": 126,
      "metadata": {
        "id": "J9kiCLVt8aKf"
      },
      "outputs": [],
      "source": [
        "src_vocab_size = len(German.vocab)\n",
        "trg_vocab_size = len(English.vocab)\n",
        "embed_size= 256\n",
        "num_layers= 3\n",
        "forward_expansion= 2\n",
        "heads=8\n",
        "dropout= 0.1\n",
        "max_length= 100\n",
        "TRG_PAD_IDX = English.vocab.stoi[English.pad_token]\n",
        "SRC_PAD_IDX = German.vocab.stoi[German.pad_token]\n",
        "\n",
        "model  = Transformer( src_vocab_size, trg_vocab_size, embed_size, num_layers, forward_expansion, heads, dropout, device, max_length, SRC_PAD_IDX, TRG_PAD_IDX).to(device)"
      ]
    },
    {
      "cell_type": "code",
      "execution_count": 127,
      "metadata": {
        "id": "sgxWiE2v8HqY",
        "colab": {
          "base_uri": "https://localhost:8080/"
        },
        "outputId": "361533a6-adbc-4239-97b5-d95fc92d52d3"
      },
      "outputs": [
        {
          "output_type": "stream",
          "name": "stdout",
          "text": [
            "The model has 9,039,877 trainable parameters\n"
          ]
        }
      ],
      "source": [
        "def count_parameters(model):\n",
        "    return sum(p.numel() for p in model.parameters() if p.requires_grad)\n",
        "\n",
        "print(f'The model has {count_parameters(model):,} trainable parameters')"
      ]
    },
    {
      "cell_type": "code",
      "execution_count": 128,
      "metadata": {
        "id": "NZdLFmU78xEo"
      },
      "outputs": [],
      "source": [
        "criterion = nn.CrossEntropyLoss(ignore_index = TRG_PAD_IDX)"
      ]
    },
    {
      "cell_type": "code",
      "execution_count": 129,
      "metadata": {
        "id": "fayTdOWP8hEz"
      },
      "outputs": [],
      "source": [
        "def initialize_weights(m):\n",
        "    if hasattr(m, 'weight') and m.weight.dim() > 1:\n",
        "        nn.init.xavier_uniform_(m.weight.data)\n",
        "model.apply(initialize_weights);"
      ]
    },
    {
      "cell_type": "code",
      "source": [
        "class Adam_lrd(Optimizer):\n",
        "  def __init__(self, params, lr = 0.001, betas = (0.9,0.999), eps = 1e-8, weight_decay = 0, dropout = 1):\n",
        "    defaults = dict(lr=lr, betas=betas, eps=eps, weight_decay=weight_decay,dropout=dropout)\n",
        "    super(Adam_lrd, self).__init__(params, defaults)\n",
        "  \n",
        "  def step(self):\n",
        "    #param_groups is inheritered which is used to break model parameters to seprate components for optimisation\n",
        "    #helps in training seperate layers of network\n",
        "    for group in self.param_groups:\n",
        "      for p in group['params']:\n",
        "        if p.grad is None:\n",
        "          continue\n",
        "        grad = p.grad.data\n",
        "        #In gerneral adam doesn't support sparse gradients\n",
        "        #if grad.is_sparse:\n",
        "\t      #  raise RuntimeError('Adam does not support sparse gradients, please consider SparseAdam instead')\n",
        "        state = self.state[p]\n",
        "\n",
        "        ## mask\n",
        "        m = torch.ones_like(p.data) * group['dropout']\n",
        "        mask = torch.bernoulli(m)\n",
        "\n",
        "        if len(state) == 0:\n",
        "          state['step'] = 0\n",
        "          # Momentum (Exponential MA of gradients)\n",
        "          state['exp_avg'] = torch.zeros_like(p.data)\n",
        "          #print(p.data.size())\n",
        "          # RMS Prop componenet. (Exponential MA of squared gradients). Denominator.\n",
        "          state['exp_avg_sq'] = torch.zeros_like(p.data)\n",
        "\n",
        "        momentum, rmsprop = state['exp_avg'], state['exp_avg_sq']\n",
        "        beta1, beta2 = group['betas']\n",
        "        state['step'] += 1\n",
        "\n",
        "        if group['weight_decay'] != 0:\n",
        "          grad.add_(group['weight_decay'], p.data)\n",
        "\n",
        "        #exponential weighted average calculation\n",
        "        #momentum = torch.mul(momentum, beta1) + (1-beta1)*grad\n",
        "        #rmsprop = torch.mul(rmsprop, beta2) + (1-beta2)*(grad**2)\n",
        "\n",
        "        momentum.mul_(beta1).add_(1 - beta1, grad)\n",
        "        rmsprop.mul_(beta2).addcmul_(1 - beta2, grad, grad)\n",
        "        \n",
        "        denom = rmsprop.sqrt() + group['eps']\n",
        "\n",
        "        #bias correction for exponential moving average\n",
        "        #if group['correct_bias']:\n",
        "        alpha  = group['lr']\n",
        "        bias_correction1 = 1 - beta1 ** state['step']\n",
        "        bias_correction2 = 1 - beta2 ** state['step']\n",
        "\n",
        "        #New Learning Rate\n",
        "        adapted_lr = alpha * math.sqrt(bias_correction2) / bias_correction1\n",
        "\n",
        "        #Computing learning rate dropout\n",
        "        lr_dropout = adapted_lr/denom.clone()\n",
        "        lr_dropout = lr_dropout * mask \n",
        "\n",
        "        #p.data = p.data - lr_dropout * (momentum)\n",
        "        p.data.addcmul_(-1, momentum, lr_dropout)\n",
        "\n",
        "        #weight decay helps in adding a penality term to the cost function \n",
        "        #which has the effect of shrinking the weights during backpropagation. \n",
        "        #This helps prevent the network from overfitting the training data as well as the exploding gradient problem\n",
        "        #if group['weight_decay'] > 0.0:\n",
        "\t      #  p.data.add_(-group['lr'] * group['weight_decay'], p.data)\n"
      ],
      "metadata": {
        "id": "8lR0R4ZFZxME"
      },
      "execution_count": 130,
      "outputs": []
    },
    {
      "cell_type": "code",
      "source": [
        "class AdamCustom(Optimizer):\n",
        "  def __init__(self, params, lr = 0.001, betas = (0.9,0.999), eps = 1e-8, weight_decay = 0):\n",
        "    defaults = dict(lr=lr, betas=betas, eps=eps, weight_decay=weight_decay)\n",
        "    super(AdamCustom, self).__init__(params, defaults)\n",
        "  \n",
        "  def step(self):\n",
        "    #param_groups is inheritered which is used to break model parameters to seprate components for optimisation\n",
        "    #helps in training seperate layers of network\n",
        "    for group in self.param_groups:\n",
        "      for p in group['params']:\n",
        "        if p.grad is None:\n",
        "          continue\n",
        "        grad = p.grad.data\n",
        "        #In gerneral adam doesn't support sparse gradients\n",
        "        #if grad.is_sparse:\n",
        "\t      #  raise RuntimeError('Adam does not support sparse gradients, please consider SparseAdam instead')\n",
        "        state = self.state[p]\n",
        "\n",
        "        if len(state) == 0:\n",
        "          state['step'] = 0\n",
        "          # Momentum (Exponential MA of gradients)\n",
        "          state['exp_avg'] = torch.zeros_like(p.data)\n",
        "          #print(p.data.size())\n",
        "          # RMS Prop componenet. (Exponential MA of squared gradients). Denominator.\n",
        "          state['exp_avg_sq'] = torch.zeros_like(p.data)\n",
        "\n",
        "        momentum, rmsprop = state['exp_avg'], state['exp_avg_sq']\n",
        "        beta1, beta2 = group['betas']\n",
        "        state['step'] += 1\n",
        "\n",
        "        if group['weight_decay'] != 0:\n",
        "          grad.add_(group['weight_decay'], p.data)\n",
        "\n",
        "        #exponential weighted average calculation\n",
        "        #momentum = torch.mul(momentum, beta1) + (1-beta1)*grad\n",
        "        #rmsprop = torch.mul(rmsprop, beta2) + (1-beta2)*(grad**2)\n",
        "\n",
        "        momentum.mul_(beta1).add_(1 - beta1, grad)\n",
        "        rmsprop.mul_(beta2).addcmul_(1 - beta2, grad, grad)\n",
        "        \n",
        "        denom = rmsprop.sqrt() + group['eps']\n",
        "\n",
        "        #bias correction for exponential moving average\n",
        "        #if group['correct_bias']:\n",
        "        alpha  = group['lr']\n",
        "        bias_correction1 = 1 - beta1 ** state['step']\n",
        "        bias_correction2 = 1 - beta2 ** state['step']\n",
        "\n",
        "        #New Learning Rate\n",
        "        adapted_lr = alpha * math.sqrt(bias_correction2) / bias_correction1\n",
        "\n",
        "\n",
        "        #p.data = p.data - lr_dropout * (momentum)\n",
        "        p.data.addcmul_(-1, momentum, adapted_lr/denom)\n",
        "\n",
        "        #weight decay helps in adding a penality term to the cost function \n",
        "        #which has the effect of shrinking the weights during backpropagation. \n",
        "        #This helps prevent the network from overfitting the training data as well as the exploding gradient problem\n",
        "        #if group['weight_decay'] > 0.0:\n",
        "\t      #  p.data.add_(-group['lr'] * group['weight_decay'], p.data)\n"
      ],
      "metadata": {
        "id": "1LUa7vnHlEwO"
      },
      "execution_count": 131,
      "outputs": []
    },
    {
      "cell_type": "code",
      "execution_count": 132,
      "metadata": {
        "id": "s2iNNbvh8hL9"
      },
      "outputs": [],
      "source": [
        "#optimizer = torch.optim.Adam(model.parameters(),lr = 0.0005)\n",
        "optimizer = Adam_lrd(model.parameters(),lr = 0.0005, dropout = 0.999)\n",
        "#optimizer = AdamCustom(model.parameters(),lr = 0.0005)"
      ]
    },
    {
      "cell_type": "code",
      "execution_count": 133,
      "metadata": {
        "id": "BkFvTc_N8xHO"
      },
      "outputs": [],
      "source": [
        "def train(model, iterator, optimizer, criterion, clip):\n",
        "    \n",
        "    model.train()\n",
        "    \n",
        "    epoch_loss = 0\n",
        "    \n",
        "    for i, batch in enumerate(iterator):\n",
        "        \n",
        "        src = batch.src\n",
        "        trg = batch.trg\n",
        "        \n",
        "        optimizer.zero_grad()\n",
        "        #print(trg.shape)\n",
        "        output = model(src, trg[:,:-1])\n",
        "                \n",
        "        #output = [batch size, trg len - 1, output dim]\n",
        "        #trg = [batch size, trg len]\n",
        "            \n",
        "        output_dim = output.shape[-1]\n",
        "            \n",
        "        output = output.contiguous().view(-1, output_dim)\n",
        "        trg = trg[:,1:].contiguous().view(-1)\n",
        "                \n",
        "        #output = [batch size * trg len - 1, output dim]\n",
        "        #trg = [batch size * trg len - 1]\n",
        "            \n",
        "        loss = criterion(output, trg)\n",
        "        \n",
        "        loss.backward()\n",
        "        \n",
        "        torch.nn.utils.clip_grad_norm_(model.parameters(), clip)\n",
        "        \n",
        "        optimizer.step()\n",
        "        \n",
        "        epoch_loss += loss.item()\n",
        "        \n",
        "    return epoch_loss / len(iterator)"
      ]
    },
    {
      "cell_type": "code",
      "execution_count": 134,
      "metadata": {
        "id": "qZ3EHT2p8xJW"
      },
      "outputs": [],
      "source": [
        "def evaluate(model, iterator, criterion):\n",
        "    \n",
        "    model.eval()\n",
        "    \n",
        "    epoch_loss = 0\n",
        "    \n",
        "    with torch.no_grad():\n",
        "    \n",
        "        for i, batch in enumerate(iterator):\n",
        "\n",
        "            src = batch.src\n",
        "            trg = batch.trg\n",
        "            trg1 = trg\n",
        "\n",
        "            output = model(src, trg[:,:-1])\n",
        "            \n",
        "            #output = [batch size, trg len - 1, output dim]\n",
        "            #trg = [batch size, trg len]\n",
        "            \n",
        "            output_dim = output.shape[-1]\n",
        "            \n",
        "            output = output.contiguous().view(-1, output_dim)\n",
        "            trg = trg[:,1:].contiguous().view(-1)\n",
        "            \n",
        "            #output = [batch size * trg len - 1, output dim]\n",
        "            #trg = [batch size * trg len - 1]\n",
        "            \n",
        "            loss = criterion(output, trg)\n",
        "\n",
        "            epoch_loss += loss.item()\n",
        "        \n",
        "    return epoch_loss / len(iterator), output, trg1"
      ]
    },
    {
      "cell_type": "code",
      "execution_count": 135,
      "metadata": {
        "id": "UtHIxBu_9BaC"
      },
      "outputs": [],
      "source": [
        "def epoch_time(start_time, end_time):\n",
        "    elapsed_time = end_time - start_time\n",
        "    elapsed_mins = int(elapsed_time / 60)\n",
        "    elapsed_secs = int(elapsed_time - (elapsed_mins * 60))\n",
        "    return elapsed_mins, elapsed_secs"
      ]
    },
    {
      "cell_type": "code",
      "execution_count": 136,
      "metadata": {
        "id": "P1LmC7IS9Bcz",
        "colab": {
          "base_uri": "https://localhost:8080/"
        },
        "outputId": "7a0832c2-89e5-4285-e97e-9d5b98c9415e"
      },
      "outputs": [
        {
          "output_type": "stream",
          "name": "stdout",
          "text": [
            "Epoch: 01 | Time: 0m 19s\n",
            "\tTrain Loss: 4.818 | Train PPL: 123.719\n",
            "\t Val. Loss: 3.419 |  Val. PPL:  30.527\n",
            "Epoch: 02 | Time: 0m 19s\n",
            "\tTrain Loss: 3.223 | Train PPL:  25.112\n",
            "\t Val. Loss: 2.694 |  Val. PPL:  14.788\n",
            "Epoch: 03 | Time: 0m 19s\n",
            "\tTrain Loss: 2.583 | Train PPL:  13.233\n",
            "\t Val. Loss: 2.240 |  Val. PPL:   9.389\n",
            "Epoch: 04 | Time: 0m 19s\n",
            "\tTrain Loss: 2.161 | Train PPL:   8.680\n",
            "\t Val. Loss: 1.978 |  Val. PPL:   7.229\n",
            "Epoch: 05 | Time: 0m 19s\n",
            "\tTrain Loss: 1.866 | Train PPL:   6.466\n",
            "\t Val. Loss: 1.849 |  Val. PPL:   6.351\n",
            "Epoch: 06 | Time: 0m 19s\n",
            "\tTrain Loss: 1.658 | Train PPL:   5.249\n",
            "\t Val. Loss: 1.757 |  Val. PPL:   5.794\n",
            "Epoch: 07 | Time: 0m 19s\n",
            "\tTrain Loss: 1.492 | Train PPL:   4.447\n",
            "\t Val. Loss: 1.710 |  Val. PPL:   5.527\n",
            "Epoch: 08 | Time: 0m 19s\n",
            "\tTrain Loss: 1.348 | Train PPL:   3.851\n",
            "\t Val. Loss: 1.684 |  Val. PPL:   5.389\n",
            "Epoch: 09 | Time: 0m 19s\n",
            "\tTrain Loss: 1.230 | Train PPL:   3.421\n",
            "\t Val. Loss: 1.670 |  Val. PPL:   5.314\n",
            "Epoch: 10 | Time: 0m 19s\n",
            "\tTrain Loss: 1.127 | Train PPL:   3.085\n",
            "\t Val. Loss: 1.660 |  Val. PPL:   5.261\n"
          ]
        }
      ],
      "source": [
        "N_EPOCHS = 10\n",
        "CLIP = 1\n",
        "\n",
        "best_valid_loss = float('inf')\n",
        "\n",
        "for epoch in range(N_EPOCHS):\n",
        "    \n",
        "    start_time = time.time()\n",
        "    \n",
        "    train_loss = train(model, train_iterator, optimizer, criterion, CLIP)\n",
        "    valid_loss, output, trg = evaluate(model, valid_iterator, criterion)\n",
        "    \n",
        "    end_time = time.time()\n",
        "    \n",
        "    epoch_mins, epoch_secs = epoch_time(start_time, end_time)\n",
        "    \n",
        "    if valid_loss < best_valid_loss:\n",
        "        best_valid_loss = valid_loss\n",
        "        torch.save(model.state_dict(), 'tranformer_1.pt')\n",
        "    \n",
        "    print(f'Epoch: {epoch+1:02} | Time: {epoch_mins}m {epoch_secs}s')\n",
        "    print(f'\\tTrain Loss: {train_loss:.3f} | Train PPL: {math.exp(train_loss):7.3f}')\n",
        "    print(f'\\t Val. Loss: {valid_loss:.3f} |  Val. PPL: {math.exp(valid_loss):7.3f}')"
      ]
    },
    {
      "cell_type": "code",
      "execution_count": 137,
      "metadata": {
        "id": "0yigifH8GFn3",
        "colab": {
          "base_uri": "https://localhost:8080/"
        },
        "outputId": "323b4627-5cb9-4bea-8c8c-916eecc23234"
      },
      "outputs": [
        {
          "output_type": "stream",
          "name": "stdout",
          "text": [
            "Test Loss: 1.702 | Test PPL:   5.483 |\n"
          ]
        }
      ],
      "source": [
        "model.load_state_dict(torch.load('tranformer_1.pt'))\n",
        "\n",
        "test_loss, output, trg = evaluate(model, test_iterator, criterion)\n",
        "\n",
        "print(f'Test Loss: {test_loss:.3f} | Test PPL: {math.exp(test_loss):7.3f} |')"
      ]
    },
    {
      "cell_type": "code",
      "source": [
        "def translate_sentence(sentence, src_field, trg_field, model, device, max_len = 50):\n",
        "    model.eval()   \n",
        "    if isinstance(sentence, str):\n",
        "        nlp = spacy.load('de_core_news_sm')\n",
        "        tokens = [token.text.lower() for token in nlp(sentence)]\n",
        "    else:\n",
        "        tokens = [token.lower() for token in sentence]\n",
        "\n",
        "    tokens = [src_field.init_token] + tokens + [src_field.eos_token]\n",
        "        \n",
        "    src_indexes = [src_field.vocab.stoi[token] for token in tokens]\n",
        "\n",
        "    src_tensor = torch.LongTensor(src_indexes).unsqueeze(0).to(device)\n",
        "    \n",
        "    src_mask = model.make_src_mask(src_tensor)\n",
        "    \n",
        "    with torch.no_grad():\n",
        "        enc_src = model.encoder(src_tensor, src_mask)\n",
        "\n",
        "    trg_indexes = [trg_field.vocab.stoi[trg_field.init_token]]\n",
        "\n",
        "    for i in range(max_len):\n",
        "\n",
        "        trg_tensor = torch.LongTensor(trg_indexes).unsqueeze(0).to(device)\n",
        "\n",
        "        trg_mask = model.make_trg_mask(trg_tensor)\n",
        "        \n",
        "        with torch.no_grad():\n",
        "            output = model.decoder(trg_tensor, enc_src, src_mask, trg_mask)\n",
        "        \n",
        "        pred_token = output.argmax(2)[:,-1].item()\n",
        "        \n",
        "        trg_indexes.append(pred_token)\n",
        "\n",
        "        if pred_token == trg_field.vocab.stoi[trg_field.eos_token]:\n",
        "            break\n",
        "    \n",
        "    trg_tokens = [trg_field.vocab.itos[i] for i in trg_indexes]\n",
        "    \n",
        "    return trg_tokens"
      ],
      "metadata": {
        "id": "AHKjqhbjGUcf"
      },
      "execution_count": 138,
      "outputs": []
    },
    {
      "cell_type": "code",
      "source": [
        "example_idx = 8\n",
        "\n",
        "src = vars(train_data.examples[example_idx])['src']\n",
        "trg = vars(train_data.examples[example_idx])['trg']\n",
        "\n",
        "print(f'src = {src}')\n",
        "print(f'trg = {trg}')"
      ],
      "metadata": {
        "id": "lojSTrOxGUfb",
        "colab": {
          "base_uri": "https://localhost:8080/"
        },
        "outputId": "b87e5e90-5609-49b9-dbdf-715150ad6a30"
      },
      "execution_count": 139,
      "outputs": [
        {
          "output_type": "stream",
          "name": "stdout",
          "text": [
            "src = ['eine', 'frau', 'mit', 'einer', 'großen', 'geldbörse', 'geht', 'an', 'einem', 'tor', 'vorbei', '.']\n",
            "trg = ['a', 'woman', 'with', 'a', 'large', 'purse', 'is', 'walking', 'by', 'a', 'gate', '.']\n"
          ]
        }
      ]
    },
    {
      "cell_type": "code",
      "source": [
        "translation = translate_sentence(src, German, English, model, device)\n",
        "\n",
        "print(f'predicted trg = {translation}')"
      ],
      "metadata": {
        "id": "Z-n0cpFiGUiW",
        "colab": {
          "base_uri": "https://localhost:8080/"
        },
        "outputId": "049d46fa-338c-4aaa-a13d-1a9df84d9094"
      },
      "execution_count": 140,
      "outputs": [
        {
          "output_type": "stream",
          "name": "stdout",
          "text": [
            "predicted trg = ['<sos>', 'a', 'woman', 'with', 'a', 'large', 'purse', 'walks', 'past', 'a', 'gate', '.', '<eos>']\n"
          ]
        }
      ]
    }
  ],
  "metadata": {
    "accelerator": "GPU",
    "colab": {
      "collapsed_sections": [],
      "name": "Translation_Transformer_Adam_lrd.ipynb",
      "provenance": []
    },
    "gpuClass": "standard",
    "kernelspec": {
      "display_name": "Python 3",
      "name": "python3"
    },
    "language_info": {
      "name": "python"
    }
  },
  "nbformat": 4,
  "nbformat_minor": 0
}